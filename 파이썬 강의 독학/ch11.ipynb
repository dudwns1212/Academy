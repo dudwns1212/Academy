{
 "cells": [
  {
   "cell_type": "code",
   "execution_count": 1,
   "id": "52acb398",
   "metadata": {},
   "outputs": [
    {
     "data": {
      "text/plain": [
       "코드       10\n",
       "이름       10\n",
       "성별       10\n",
       "연령       10\n",
       "혈액형      10\n",
       "키        10\n",
       "체중       10\n",
       "BMI      10\n",
       "운동시작일     6\n",
       "dtype: int64"
      ]
     },
     "execution_count": 1,
     "metadata": {},
     "output_type": "execute_result"
    }
   ],
   "source": [
    "import pandas as pd\n",
    "data = 'member.csv'\n",
    "df = pd.read_csv(data)\n",
    "df.count()"
   ]
  },
  {
   "cell_type": "code",
   "execution_count": 2,
   "id": "08f9a888",
   "metadata": {},
   "outputs": [
    {
     "data": {
      "text/plain": [
       "pandas.core.series.Series"
      ]
     },
     "execution_count": 2,
     "metadata": {},
     "output_type": "execute_result"
    }
   ],
   "source": [
    "type(df.count())"
   ]
  },
  {
   "cell_type": "code",
   "execution_count": 3,
   "id": "7e115f98",
   "metadata": {},
   "outputs": [
    {
     "data": {
      "text/plain": [
       "A     3\n",
       "B     3\n",
       "O     2\n",
       "AB    2\n",
       "Name: 혈액형, dtype: int64"
      ]
     },
     "execution_count": 3,
     "metadata": {},
     "output_type": "execute_result"
    }
   ],
   "source": [
    "import pandas as pd\n",
    "df = pd.read_csv('member.csv')\n",
    "result = df['혈액형'].value_counts()\n",
    "result"
   ]
  },
  {
   "cell_type": "code",
   "execution_count": 4,
   "id": "e5aa4adb",
   "metadata": {},
   "outputs": [
    {
     "data": {
      "text/plain": [
       "pandas.core.series.Series"
      ]
     },
     "execution_count": 4,
     "metadata": {},
     "output_type": "execute_result"
    }
   ],
   "source": [
    "type(result)"
   ]
  },
  {
   "cell_type": "code",
   "execution_count": 5,
   "id": "bd9f34e0",
   "metadata": {},
   "outputs": [],
   "source": [
    "import warnings\n",
    "warnings.filterwarnings('ignore')"
   ]
  },
  {
   "cell_type": "code",
   "execution_count": 6,
   "id": "9f33adba",
   "metadata": {},
   "outputs": [
    {
     "data": {
      "text/plain": [
       "코드     342056.500\n",
       "연령         39.000\n",
       "키         172.700\n",
       "체중         67.300\n",
       "BMI        22.163\n",
       "dtype: float64"
      ]
     },
     "execution_count": 6,
     "metadata": {},
     "output_type": "execute_result"
    }
   ],
   "source": [
    "import pandas as pd\n",
    "df = pd.read_csv('member.csv')\n",
    "df.mean()"
   ]
  },
  {
   "cell_type": "code",
   "execution_count": 7,
   "id": "9b7dea17",
   "metadata": {},
   "outputs": [
    {
     "data": {
      "text/plain": [
       "22.163"
      ]
     },
     "execution_count": 7,
     "metadata": {},
     "output_type": "execute_result"
    }
   ],
   "source": [
    "df['BMI'].mean()"
   ]
  },
  {
   "cell_type": "code",
   "execution_count": 8,
   "id": "64cc6ce6",
   "metadata": {},
   "outputs": [
    {
     "data": {
      "text/plain": [
       "키     172.7\n",
       "체중     67.3\n",
       "dtype: float64"
      ]
     },
     "execution_count": 8,
     "metadata": {},
     "output_type": "execute_result"
    }
   ],
   "source": [
    "df[ ['키', '체중'] ].mean()"
   ]
  },
  {
   "cell_type": "code",
   "execution_count": 9,
   "id": "41dfe13c",
   "metadata": {},
   "outputs": [
    {
     "data": {
      "text/plain": [
       "코드     335290.000\n",
       "연령         38.000\n",
       "키         172.500\n",
       "체중         60.000\n",
       "BMI        20.155\n",
       "dtype: float64"
      ]
     },
     "execution_count": 9,
     "metadata": {},
     "output_type": "execute_result"
    }
   ],
   "source": [
    "import pandas as pd\n",
    "df = pd.read_csv('member.csv')\n",
    "df.median()"
   ]
  },
  {
   "cell_type": "code",
   "execution_count": 10,
   "id": "0989f496",
   "metadata": {},
   "outputs": [
    {
     "data": {
      "text/plain": [
       "38.0"
      ]
     },
     "execution_count": 10,
     "metadata": {},
     "output_type": "execute_result"
    }
   ],
   "source": [
    "df['연령'].median()"
   ]
  },
  {
   "cell_type": "code",
   "execution_count": 11,
   "id": "9a96aacd",
   "metadata": {},
   "outputs": [
    {
     "data": {
      "text/plain": [
       "키     172.5\n",
       "체중     60.0\n",
       "dtype: float64"
      ]
     },
     "execution_count": 11,
     "metadata": {},
     "output_type": "execute_result"
    }
   ],
   "source": [
    "df[['키', '체중']].median()"
   ]
  },
  {
   "cell_type": "code",
   "execution_count": 12,
   "id": "4138b58b",
   "metadata": {},
   "outputs": [
    {
     "data": {
      "text/plain": [
       "코드     503546\n",
       "이름        황산성\n",
       "성별          여\n",
       "연령         64\n",
       "혈액형         O\n",
       "키         193\n",
       "체중         95\n",
       "BMI     27.46\n",
       "dtype: object"
      ]
     },
     "execution_count": 12,
     "metadata": {},
     "output_type": "execute_result"
    }
   ],
   "source": [
    "import pandas as pd\n",
    "df = pd.read_csv('member.csv')\n",
    "df.max()"
   ]
  },
  {
   "cell_type": "code",
   "execution_count": 13,
   "id": "a7672ef4",
   "metadata": {},
   "outputs": [
    {
     "data": {
      "text/plain": [
       "64"
      ]
     },
     "execution_count": 13,
     "metadata": {},
     "output_type": "execute_result"
    }
   ],
   "source": [
    "df['연령'].max()"
   ]
  },
  {
   "cell_type": "code",
   "execution_count": 14,
   "id": "b8f9e66d",
   "metadata": {},
   "outputs": [
    {
     "data": {
      "text/plain": [
       "키     193\n",
       "체중     95\n",
       "dtype: int64"
      ]
     },
     "execution_count": 14,
     "metadata": {},
     "output_type": "execute_result"
    }
   ],
   "source": [
    "df[['키', '체중']].max()"
   ]
  },
  {
   "cell_type": "code",
   "execution_count": 15,
   "id": "a68d856d",
   "metadata": {},
   "outputs": [
    {
     "data": {
      "text/plain": [
       "코드     185823\n",
       "이름        강산애\n",
       "성별          남\n",
       "연령         19\n",
       "혈액형         A\n",
       "키         157\n",
       "체중         48\n",
       "BMI     19.47\n",
       "dtype: object"
      ]
     },
     "execution_count": 15,
     "metadata": {},
     "output_type": "execute_result"
    }
   ],
   "source": [
    "import pandas as pd\n",
    "df = pd.read_csv('member.csv')\n",
    "df.min()"
   ]
  },
  {
   "cell_type": "code",
   "execution_count": 16,
   "id": "7637dd60",
   "metadata": {},
   "outputs": [
    {
     "data": {
      "text/plain": [
       "19"
      ]
     },
     "execution_count": 16,
     "metadata": {},
     "output_type": "execute_result"
    }
   ],
   "source": [
    "df['연령'].min()"
   ]
  },
  {
   "cell_type": "code",
   "execution_count": 17,
   "id": "baac4c2c",
   "metadata": {},
   "outputs": [
    {
     "data": {
      "text/plain": [
       "키     157\n",
       "체중     48\n",
       "dtype: int64"
      ]
     },
     "execution_count": 17,
     "metadata": {},
     "output_type": "execute_result"
    }
   ],
   "source": [
    "df[['키', '체중']].min()"
   ]
  },
  {
   "cell_type": "code",
   "execution_count": 18,
   "id": "025dadd8",
   "metadata": {},
   "outputs": [
    {
     "data": {
      "text/plain": [
       "코드     117049.733168\n",
       "연령         15.202339\n",
       "키          11.898179\n",
       "체중         17.807926\n",
       "BMI         3.086555\n",
       "dtype: float64"
      ]
     },
     "execution_count": 18,
     "metadata": {},
     "output_type": "execute_result"
    }
   ],
   "source": [
    "import pandas as pd\n",
    "df = pd.read_csv('member.csv')\n",
    "df.std()"
   ]
  },
  {
   "cell_type": "code",
   "execution_count": 19,
   "id": "48b17301",
   "metadata": {},
   "outputs": [
    {
     "data": {
      "text/plain": [
       "15.20233900132184"
      ]
     },
     "execution_count": 19,
     "metadata": {},
     "output_type": "execute_result"
    }
   ],
   "source": [
    "df['연령'].std()"
   ]
  },
  {
   "cell_type": "code",
   "execution_count": 20,
   "id": "67f2c87f",
   "metadata": {},
   "outputs": [
    {
     "data": {
      "text/plain": [
       "키     11.898179\n",
       "체중    17.807926\n",
       "dtype: float64"
      ]
     },
     "execution_count": 20,
     "metadata": {},
     "output_type": "execute_result"
    }
   ],
   "source": [
    "df[['키', '체중']].std()"
   ]
  },
  {
   "cell_type": "code",
   "execution_count": 21,
   "id": "22efbac8",
   "metadata": {},
   "outputs": [
    {
     "data": {
      "text/html": [
       "<div>\n",
       "<style scoped>\n",
       "    .dataframe tbody tr th:only-of-type {\n",
       "        vertical-align: middle;\n",
       "    }\n",
       "\n",
       "    .dataframe tbody tr th {\n",
       "        vertical-align: top;\n",
       "    }\n",
       "\n",
       "    .dataframe thead th {\n",
       "        text-align: right;\n",
       "    }\n",
       "</style>\n",
       "<table border=\"1\" class=\"dataframe\">\n",
       "  <thead>\n",
       "    <tr style=\"text-align: right;\">\n",
       "      <th></th>\n",
       "      <th>코드</th>\n",
       "      <th>연령</th>\n",
       "      <th>키</th>\n",
       "      <th>체중</th>\n",
       "      <th>BMI</th>\n",
       "    </tr>\n",
       "  </thead>\n",
       "  <tbody>\n",
       "    <tr>\n",
       "      <th>코드</th>\n",
       "      <td>1.000000</td>\n",
       "      <td>0.572318</td>\n",
       "      <td>-0.343057</td>\n",
       "      <td>-0.377510</td>\n",
       "      <td>-0.397892</td>\n",
       "    </tr>\n",
       "    <tr>\n",
       "      <th>연령</th>\n",
       "      <td>0.572318</td>\n",
       "      <td>1.000000</td>\n",
       "      <td>-0.426925</td>\n",
       "      <td>-0.316438</td>\n",
       "      <td>-0.176555</td>\n",
       "    </tr>\n",
       "    <tr>\n",
       "      <th>키</th>\n",
       "      <td>-0.343057</td>\n",
       "      <td>-0.426925</td>\n",
       "      <td>1.000000</td>\n",
       "      <td>0.942296</td>\n",
       "      <td>0.796228</td>\n",
       "    </tr>\n",
       "    <tr>\n",
       "      <th>체중</th>\n",
       "      <td>-0.377510</td>\n",
       "      <td>-0.316438</td>\n",
       "      <td>0.942296</td>\n",
       "      <td>1.000000</td>\n",
       "      <td>0.950220</td>\n",
       "    </tr>\n",
       "    <tr>\n",
       "      <th>BMI</th>\n",
       "      <td>-0.397892</td>\n",
       "      <td>-0.176555</td>\n",
       "      <td>0.796228</td>\n",
       "      <td>0.950220</td>\n",
       "      <td>1.000000</td>\n",
       "    </tr>\n",
       "  </tbody>\n",
       "</table>\n",
       "</div>"
      ],
      "text/plain": [
       "           코드        연령         키        체중       BMI\n",
       "코드   1.000000  0.572318 -0.343057 -0.377510 -0.397892\n",
       "연령   0.572318  1.000000 -0.426925 -0.316438 -0.176555\n",
       "키   -0.343057 -0.426925  1.000000  0.942296  0.796228\n",
       "체중  -0.377510 -0.316438  0.942296  1.000000  0.950220\n",
       "BMI -0.397892 -0.176555  0.796228  0.950220  1.000000"
      ]
     },
     "execution_count": 21,
     "metadata": {},
     "output_type": "execute_result"
    }
   ],
   "source": [
    "import pandas as pd\n",
    "df = pd.read_csv('member.csv')\n",
    "df.corr()"
   ]
  },
  {
   "cell_type": "code",
   "execution_count": 22,
   "id": "870c3f15",
   "metadata": {},
   "outputs": [
    {
     "data": {
      "text/html": [
       "<div>\n",
       "<style scoped>\n",
       "    .dataframe tbody tr th:only-of-type {\n",
       "        vertical-align: middle;\n",
       "    }\n",
       "\n",
       "    .dataframe tbody tr th {\n",
       "        vertical-align: top;\n",
       "    }\n",
       "\n",
       "    .dataframe thead th {\n",
       "        text-align: right;\n",
       "    }\n",
       "</style>\n",
       "<table border=\"1\" class=\"dataframe\">\n",
       "  <thead>\n",
       "    <tr style=\"text-align: right;\">\n",
       "      <th></th>\n",
       "      <th>연령</th>\n",
       "      <th>BMI</th>\n",
       "    </tr>\n",
       "  </thead>\n",
       "  <tbody>\n",
       "    <tr>\n",
       "      <th>연령</th>\n",
       "      <td>1.000000</td>\n",
       "      <td>-0.176555</td>\n",
       "    </tr>\n",
       "    <tr>\n",
       "      <th>BMI</th>\n",
       "      <td>-0.176555</td>\n",
       "      <td>1.000000</td>\n",
       "    </tr>\n",
       "  </tbody>\n",
       "</table>\n",
       "</div>"
      ],
      "text/plain": [
       "           연령       BMI\n",
       "연령   1.000000 -0.176555\n",
       "BMI -0.176555  1.000000"
      ]
     },
     "execution_count": 22,
     "metadata": {},
     "output_type": "execute_result"
    }
   ],
   "source": [
    "df[['연령', 'BMI']].corr()"
   ]
  },
  {
   "cell_type": "code",
   "execution_count": 23,
   "id": "3a4a850e",
   "metadata": {},
   "outputs": [
    {
     "data": {
      "text/html": [
       "<div>\n",
       "<style scoped>\n",
       "    .dataframe tbody tr th:only-of-type {\n",
       "        vertical-align: middle;\n",
       "    }\n",
       "\n",
       "    .dataframe tbody tr th {\n",
       "        vertical-align: top;\n",
       "    }\n",
       "\n",
       "    .dataframe thead th {\n",
       "        text-align: right;\n",
       "    }\n",
       "</style>\n",
       "<table border=\"1\" class=\"dataframe\">\n",
       "  <thead>\n",
       "    <tr style=\"text-align: right;\">\n",
       "      <th></th>\n",
       "      <th>키</th>\n",
       "      <th>체중</th>\n",
       "    </tr>\n",
       "  </thead>\n",
       "  <tbody>\n",
       "    <tr>\n",
       "      <th>키</th>\n",
       "      <td>1.000000</td>\n",
       "      <td>0.942296</td>\n",
       "    </tr>\n",
       "    <tr>\n",
       "      <th>체중</th>\n",
       "      <td>0.942296</td>\n",
       "      <td>1.000000</td>\n",
       "    </tr>\n",
       "  </tbody>\n",
       "</table>\n",
       "</div>"
      ],
      "text/plain": [
       "           키        체중\n",
       "키   1.000000  0.942296\n",
       "체중  0.942296  1.000000"
      ]
     },
     "execution_count": 23,
     "metadata": {},
     "output_type": "execute_result"
    }
   ],
   "source": [
    "df[['키', '체중']].corr()"
   ]
  },
  {
   "cell_type": "code",
   "execution_count": 24,
   "id": "611e5973",
   "metadata": {},
   "outputs": [],
   "source": [
    "# end"
   ]
  }
 ],
 "metadata": {
  "kernelspec": {
   "display_name": "Python 3",
   "language": "python",
   "name": "python3"
  },
  "language_info": {
   "codemirror_mode": {
    "name": "ipython",
    "version": 3
   },
   "file_extension": ".py",
   "mimetype": "text/x-python",
   "name": "python",
   "nbconvert_exporter": "python",
   "pygments_lexer": "ipython3",
   "version": "3.12.5"
  },
  "varInspector": {
   "cols": {
    "lenName": 16,
    "lenType": 16,
    "lenVar": 40
   },
   "kernels_config": {
    "python": {
     "delete_cmd_postfix": "",
     "delete_cmd_prefix": "del ",
     "library": "var_list.py",
     "varRefreshCmd": "print(var_dic_list())"
    },
    "r": {
     "delete_cmd_postfix": ") ",
     "delete_cmd_prefix": "rm(",
     "library": "var_list.r",
     "varRefreshCmd": "cat(var_dic_list()) "
    }
   },
   "types_to_exclude": [
    "module",
    "function",
    "builtin_function_or_method",
    "instance",
    "_Feature"
   ],
   "window_display": false
  }
 },
 "nbformat": 4,
 "nbformat_minor": 5
}
